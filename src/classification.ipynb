{
 "cells": [
  {
   "cell_type": "code",
   "execution_count": 280,
   "metadata": {},
   "outputs": [],
   "source": [
    "from matplotlib import pyplot as plt\n",
    "import numpy as np\n",
    "from sklearn.model_selection import train_test_split\n",
    "from sklearn.metrics import f1_score, accuracy_score\n",
    "\n",
    "from pigeon import annotate\n",
    "from tqdm import tqdm, tqdm_notebook\n",
    "from pathlib import Path\n",
    "import pickle\n",
    "\n",
    "import torch\n",
    "import torchvision\n",
    "from torchvision import transforms, models\n",
    "from torch.utils.data import Dataset, DataLoader\n",
    "import torch.nn as nn"
   ]
  },
  {
   "cell_type": "code",
   "execution_count": 10,
   "metadata": {},
   "outputs": [
    {
     "name": "stdout",
     "output_type": "stream",
     "text": [
      "CUDA is available!  Training on GPU ...\n"
     ]
    }
   ],
   "source": [
    "train_on_gpu = torch.cuda.is_available()\n",
    "\n",
    "if not train_on_gpu:\n",
    "    print('CUDA is not available.  Training on CPU ...')\n",
    "else:\n",
    "    print('CUDA is available!  Training on GPU ...')"
   ]
  },
  {
   "cell_type": "markdown",
   "metadata": {},
   "source": [
    "# Labeling"
   ]
  },
  {
   "cell_type": "code",
   "execution_count": 56,
   "metadata": {},
   "outputs": [],
   "source": [
    "DATA_MODES = ['train', 'test']\n",
    "DEVICE = torch.device(\"cuda\")"
   ]
  },
  {
   "cell_type": "code",
   "execution_count": 57,
   "metadata": {},
   "outputs": [],
   "source": [
    "DATA_DIR = Path('EyesDataset/')\n",
    "files = sorted(list(DATA_DIR.rglob('*.jpg')))"
   ]
  },
  {
   "cell_type": "code",
   "execution_count": null,
   "metadata": {},
   "outputs": [],
   "source": [
    "from IPython.display import display, Image"
   ]
  },
  {
   "cell_type": "code",
   "execution_count": 3,
   "metadata": {
    "scrolled": true
   },
   "outputs": [
    {
     "data": {
      "application/vnd.jupyter.widget-view+json": {
       "model_id": "e287f13bf79e421083e6319b264c79ef",
       "version_major": 2,
       "version_minor": 0
      },
      "text/plain": [
       "HTML(value='0 examples annotated, 4001 examples left')"
      ]
     },
     "metadata": {},
     "output_type": "display_data"
    },
    {
     "data": {
      "application/vnd.jupyter.widget-view+json": {
       "model_id": "6f132589b87341348443f8a52c2ca2a6",
       "version_major": 2,
       "version_minor": 0
      },
      "text/plain": [
       "HBox(children=(Button(description='opened', style=ButtonStyle()), Button(description='closed', style=ButtonSty…"
      ]
     },
     "metadata": {},
     "output_type": "display_data"
    },
    {
     "data": {
      "application/vnd.jupyter.widget-view+json": {
       "model_id": "0838f86f3c1642cc97bc9490eafe5fe7",
       "version_major": 2,
       "version_minor": 0
      },
      "text/plain": [
       "Output()"
      ]
     },
     "metadata": {},
     "output_type": "display_data"
    },
    {
     "name": "stdout",
     "output_type": "stream",
     "text": [
      "Annotation done.\n"
     ]
    }
   ],
   "source": [
    "annotations = annotate(\n",
    "  files,\n",
    "  options=['opened', 'closed'],\n",
    "  display_fn=lambda filename: display(Image(filename))\n",
    ")"
   ]
  },
  {
   "cell_type": "code",
   "execution_count": 6,
   "metadata": {},
   "outputs": [],
   "source": [
    "with open('annotations.pkl', 'wb') as f:\n",
    "    pickle.dump(annotations, f)"
   ]
  },
  {
   "cell_type": "code",
   "execution_count": 473,
   "metadata": {},
   "outputs": [],
   "source": [
    "with open('annotations.pkl', 'rb') as f:\n",
    "    annotations = pickle.load(f)"
   ]
  },
  {
   "cell_type": "code",
   "execution_count": 474,
   "metadata": {},
   "outputs": [
    {
     "data": {
      "text/plain": [
       "3955"
      ]
     },
     "execution_count": 474,
     "metadata": {},
     "output_type": "execute_result"
    }
   ],
   "source": [
    "len(annotations)"
   ]
  },
  {
   "cell_type": "code",
   "execution_count": 477,
   "metadata": {},
   "outputs": [],
   "source": [
    "labels = np.array([x for _, x in annotations])"
   ]
  },
  {
   "cell_type": "code",
   "execution_count": 480,
   "metadata": {},
   "outputs": [
    {
     "data": {
      "image/png": "[encoded data removed]",
      "text/plain": [
       "<Figure size 432x288 with 1 Axes>"
      ]
     },
     "metadata": {
      "needs_background": "light"
     },
     "output_type": "display_data"
    }
   ],
   "source": [
    "_ = plt.hist(labels)"
   ]
  },
  {
   "cell_type": "code",
   "execution_count": 24,
   "metadata": {},
   "outputs": [],
   "source": [
    "train_ann, test_ann = train_test_split(annotations, test_size=0.1, shuffle=True)"
   ]
  },
  {
   "cell_type": "markdown",
   "metadata": {},
   "source": [
    "# Dataset class"
   ]
  },
  {
   "cell_type": "code",
   "execution_count": 59,
   "metadata": {},
   "outputs": [],
   "source": [
    "from PIL import Image "
   ]
  },
  {
   "cell_type": "code",
   "execution_count": 210,
   "metadata": {},
   "outputs": [],
   "source": [
    "class EyesDataset(Dataset):\n",
    "    def __init__(self, annotations, mode):\n",
    "        super().__init__()\n",
    "        self.annotations = annotations\n",
    "        self.mode = mode\n",
    "\n",
    "        if self.mode not in DATA_MODES:\n",
    "            print(f\"{self.mode} is not correct; correct modes: {DATA_MODES}\")\n",
    "            raise NameError\n",
    "\n",
    "        self.len_ = len(self.annotations)\n",
    "     \n",
    "                      \n",
    "    def __len__(self):\n",
    "        return self.len_\n",
    "      \n",
    "    def load_sample(self, file):\n",
    "        image = Image.open(file)\n",
    "        image.load()\n",
    "        return image\n",
    "  \n",
    "    def __getitem__(self, index):\n",
    "        \n",
    "        transform = transforms.Compose([\n",
    "            transforms.ToTensor(),\n",
    "        ])\n",
    "        \n",
    "        augmentation = transforms.Compose([\n",
    "            transforms.RandomHorizontalFlip(),\n",
    "            transforms.RandomResizedCrop(24, scale=(0.8, 1), ratio=(0.75, 1.3333333333333333), interpolation=2),\n",
    "#             transforms.RandomPerspective(distortion_scale=0.3, p=0.9, interpolation=3, fill=0),\n",
    "            transforms.RandomAffine(degrees=20, shear=20, resample=False),\n",
    "            transforms.Resize((24, 24))\n",
    "        ])\n",
    "        \n",
    "        x = self.load_sample(self.annotations[index][0])\n",
    "        label = (lambda x : 0 if (x == 'closed') else 1)(self.annotations[index][1])\n",
    "        label = np.array(label, dtype='float32')\n",
    "                                                         \n",
    "        if self.mode == 'train':\n",
    "            x = augmentation(x)\n",
    "        x = self._prepare_sample(x)\n",
    "        x = np.array(x / 255, dtype='float32')\n",
    "        x = transform(x)\n",
    "        return x, label\n",
    "        \n",
    "    def _prepare_sample(self, image):\n",
    "        image = image.resize((24, 24))\n",
    "        return np.array(image)"
   ]
  },
  {
   "cell_type": "code",
   "execution_count": 211,
   "metadata": {},
   "outputs": [],
   "source": [
    "train_dataset = EyesDataset(train_ann, 'train')\n",
    "test_dataset = EyesDataset(test_ann, 'test')"
   ]
  },
  {
   "cell_type": "code",
   "execution_count": 212,
   "metadata": {},
   "outputs": [],
   "source": [
    "train_loader = DataLoader(train_dataset, shuffle=True, batch_size=32)\n",
    "test_loader = DataLoader(test_dataset, shuffle=False, batch_size=32)"
   ]
  },
  {
   "cell_type": "markdown",
   "metadata": {},
   "source": [
    "# Train functions"
   ]
  },
  {
   "cell_type": "code",
   "execution_count": 248,
   "metadata": {
    "colab": {},
    "colab_type": "code",
    "id": "EsMwa0HRSOEJ"
   },
   "outputs": [],
   "source": [
    "def train_epoch(net, train_loader, loss_fn, optimizer):\n",
    "    net.train()\n",
    "    train_ep_loss = 0.\n",
    "    counter = 0\n",
    "    for train_x, train_y in train_loader:\n",
    "        train_x = train_x.to(DEVICE)\n",
    "        train_y = train_y.to(DEVICE).view(-1, 1)\n",
    "        # zero  gradients\n",
    "        optimizer.zero_grad()\n",
    "\n",
    "        # get the output from the model\n",
    "        output = net(train_x)\n",
    "        output = torch.sigmoid(output)\n",
    "        # calculate loss\n",
    "        loss = loss_fn(output, train_y)\n",
    "        loss.backward()\n",
    "        optimizer.step()\n",
    "\n",
    "        train_ep_loss += loss.item() \n",
    "        counter += 1\n",
    "    train_ep_loss /= counter\n",
    "   \n",
    "    return train_ep_loss"
   ]
  },
  {
   "cell_type": "code",
   "execution_count": 386,
   "metadata": {
    "colab": {},
    "colab_type": "code",
    "id": "TR49JExXSOEM"
   },
   "outputs": [],
   "source": [
    "def test_epoch(net, test_loader, loss_fn):\n",
    "    net.eval()\n",
    "    test_ep_loss = 0.\n",
    "    test_ep_acc = 0.\n",
    "    test_ep_f1 = 0.\n",
    "    \n",
    "    counter = 0.\n",
    "    for test_x, test_y in test_loader:\n",
    "        test_x = test_x.to(DEVICE)\n",
    "        test_y = test_y.to(DEVICE).view(-1, 1)\n",
    "        \n",
    "        output = net(test_x)\n",
    "        output = torch.sigmoid(output)\n",
    "        \n",
    "        # calculate loss and metrics\n",
    "        loss = loss_fn(output, test_y)\n",
    "        acc = accuracy_score(test_y.cpu().detach(), (output.cpu().detach() > 0.5))\n",
    "        f1 = f1_score(test_y.cpu().detach(), (output.cpu().detach() > 0.5).type(torch.float32))\n",
    "        \n",
    "        test_ep_loss += loss.item() \n",
    "        test_ep_acc += acc\n",
    "        test_ep_f1 += f1\n",
    "        \n",
    "        counter += 1\n",
    "\n",
    "    test_ep_loss /= counter\n",
    "    test_ep_acc /= counter\n",
    "    test_ep_f1 /= counter\n",
    "    \n",
    "    return test_ep_loss, test_ep_acc, test_ep_f1"
   ]
  },
  {
   "cell_type": "code",
   "execution_count": 397,
   "metadata": {
    "colab": {},
    "colab_type": "code",
    "id": "3wDiVXSuSOER"
   },
   "outputs": [],
   "source": [
    "def train(net, train_loader, test_loader, loss_fn, optimizer, epochs, scheduler=None):\n",
    "    \n",
    "    train_losses = []\n",
    "    test_losses = []\n",
    "\n",
    "    for e in tqdm(range(epochs)):\n",
    "\n",
    "        train_loss = train_epoch(net, train_loader, loss_fn, optimizer)\n",
    "        if scheduler:\n",
    "            scheduler.step()\n",
    "        with torch.no_grad():\n",
    "            test_loss, test_acc, test_f1 = test_epoch(net, test_loader, loss_fn)\n",
    "\n",
    "        train_losses.append(train_loss)\n",
    "        test_losses.append(test_loss)\n",
    "        \n",
    "        if e%5 == 0:\n",
    "            print(\"Epoch: {}/{}...\".format(e+1, epochs),\n",
    "                          \"Loss: {:.6f}...\".format(train_loss),\n",
    "                          \"Test Loss: {:.6f}...\".format(test_loss), \n",
    "                          \"Test acc: {:.6f}\".format(test_acc),\n",
    "                          \"Test f1: {:.6f}\".format(test_f1))\n",
    "    return train_losses, test_losses"
   ]
  },
  {
   "cell_type": "markdown",
   "metadata": {},
   "source": [
    "# Model"
   ]
  },
  {
   "cell_type": "code",
   "execution_count": 452,
   "metadata": {},
   "outputs": [],
   "source": [
    "mobilenet = models.mobilenet_v2()"
   ]
  },
  {
   "cell_type": "code",
   "execution_count": 453,
   "metadata": {},
   "outputs": [],
   "source": [
    "mobilenet.features[0][0] = nn.Conv2d(1, 32, kernel_size=(3, 3), stride=(2, 2), padding=(1, 1), bias=False)"
   ]
  },
  {
   "cell_type": "code",
   "execution_count": 454,
   "metadata": {},
   "outputs": [],
   "source": [
    "mobilenet.classifier = nn.Sequential(\n",
    "    nn.Dropout(p=0.2, inplace=False), \n",
    "    nn.Linear(in_features=1280, out_features=100, bias=True), \n",
    "    nn.ReLU(), \n",
    "    nn.Linear(in_features=100, out_features=1, bias=True)\n",
    ")"
   ]
  },
  {
   "cell_type": "markdown",
   "metadata": {},
   "source": [
    "# Train"
   ]
  },
  {
   "cell_type": "code",
   "execution_count": 455,
   "metadata": {},
   "outputs": [],
   "source": [
    "mobilenet = mobilenet.to(DEVICE)\n",
    "\n",
    "optimizer = torch.optim.Adam(mobilenet.parameters(), lr = 1e-3)\n",
    "scheduler = torch.optim.lr_scheduler.StepLR(optimizer, step_size=5, gamma=0.2)\n",
    "criterion = nn.BCELoss()"
   ]
  },
  {
   "cell_type": "code",
   "execution_count": 456,
   "metadata": {},
   "outputs": [
    {
     "name": "stderr",
     "output_type": "stream",
     "text": [
      "  2%|▎         | 1/40 [00:07<04:41,  7.23s/it]"
     ]
    },
    {
     "name": "stdout",
     "output_type": "stream",
     "text": [
      "Epoch: 1/40... Loss: 0.647658... Test Loss: 0.588354... Test acc: 0.702724 Test f1: 0.727825\n"
     ]
    },
    {
     "name": "stderr",
     "output_type": "stream",
     "text": [
      " 15%|█▌        | 6/40 [00:42<04:02,  7.13s/it]"
     ]
    },
    {
     "name": "stdout",
     "output_type": "stream",
     "text": [
      "Epoch: 6/40... Loss: 0.376040... Test Loss: 0.296225... Test acc: 0.871795 Test f1: 0.883527\n"
     ]
    },
    {
     "name": "stderr",
     "output_type": "stream",
     "text": [
      " 28%|██▊       | 11/40 [01:18<03:28,  7.20s/it]"
     ]
    },
    {
     "name": "stdout",
     "output_type": "stream",
     "text": [
      "Epoch: 11/40... Loss: 0.316134... Test Loss: 0.217810... Test acc: 0.925481 Test f1: 0.926364\n"
     ]
    },
    {
     "name": "stderr",
     "output_type": "stream",
     "text": [
      " 40%|████      | 16/40 [01:54<02:51,  7.14s/it]"
     ]
    },
    {
     "name": "stdout",
     "output_type": "stream",
     "text": [
      "Epoch: 16/40... Loss: 0.302945... Test Loss: 0.212231... Test acc: 0.931090 Test f1: 0.931773\n"
     ]
    },
    {
     "name": "stderr",
     "output_type": "stream",
     "text": [
      " 52%|█████▎    | 21/40 [02:29<02:12,  6.98s/it]"
     ]
    },
    {
     "name": "stdout",
     "output_type": "stream",
     "text": [
      "Epoch: 21/40... Loss: 0.314267... Test Loss: 0.219511... Test acc: 0.923878 Test f1: 0.925836\n"
     ]
    },
    {
     "name": "stderr",
     "output_type": "stream",
     "text": [
      " 65%|██████▌   | 26/40 [03:04<01:37,  6.97s/it]"
     ]
    },
    {
     "name": "stdout",
     "output_type": "stream",
     "text": [
      "Epoch: 26/40... Loss: 0.299854... Test Loss: 0.205403... Test acc: 0.942308 Test f1: 0.941840\n"
     ]
    },
    {
     "name": "stderr",
     "output_type": "stream",
     "text": [
      " 78%|███████▊  | 31/40 [03:39<01:03,  7.08s/it]"
     ]
    },
    {
     "name": "stdout",
     "output_type": "stream",
     "text": [
      "Epoch: 31/40... Loss: 0.317097... Test Loss: 0.214147... Test acc: 0.933494 Test f1: 0.935276\n"
     ]
    },
    {
     "name": "stderr",
     "output_type": "stream",
     "text": [
      " 90%|█████████ | 36/40 [04:14<00:28,  7.04s/it]"
     ]
    },
    {
     "name": "stdout",
     "output_type": "stream",
     "text": [
      "Epoch: 36/40... Loss: 0.299019... Test Loss: 0.227404... Test acc: 0.923077 Test f1: 0.923938\n"
     ]
    },
    {
     "name": "stderr",
     "output_type": "stream",
     "text": [
      "100%|██████████| 40/40 [04:43<00:00,  7.08s/it]\n"
     ]
    }
   ],
   "source": [
    "mn_train_loss, mn_test_losses = train(mobilenet, train_loader, test_loader, criterion, optimizer, 40, scheduler)"
   ]
  },
  {
   "cell_type": "code",
   "execution_count": 457,
   "metadata": {},
   "outputs": [],
   "source": [
    "torch.save(mobilenet.state_dict(), 'weights_mn_40.pth')"
   ]
  },
  {
   "cell_type": "code",
   "execution_count": 495,
   "metadata": {},
   "outputs": [],
   "source": [
    "def openEyeCheck(inpIm, model=None):\n",
    "    def load_sample(file):\n",
    "        image = Image.open(file)\n",
    "        image.load()\n",
    "        return image\n",
    "    if model is None:\n",
    "        model = models.mobilenet_v2()\n",
    "        model.features[0][0] = nn.Conv2d(1, 32, kernel_size=(3, 3), stride=(2, 2), padding=(1, 1), bias=False)\n",
    "        model.classifier = nn.Sequential(\n",
    "            nn.Dropout(p=0.2, inplace=False), \n",
    "            nn.Linear(in_features=1280, out_features=100, bias=True), \n",
    "            nn.ReLU(), \n",
    "            nn.Linear(in_features=100, out_features=1, bias=True)\n",
    "        )\n",
    "        model = model.to(DEVICE)\n",
    "        model.load_state_dict(torch.load('weights_mn_40.pth'))\n",
    "        model.eval()\n",
    "    \n",
    "    image = torch.FloatTensor(np.array(load_sample(inpIm))).to(DEVICE).view(1,1,24,24) / 255\n",
    "    out = torch.sigmoid(model(image)) > 0.5\n",
    "    \n",
    "    if out.item():\n",
    "        return 'Opened'\n",
    "    return 'Closed'"
   ]
  },
  {
   "cell_type": "code",
   "execution_count": 496,
   "metadata": {},
   "outputs": [
    {
     "data": {
      "text/plain": [
       "'Opened'"
      ]
     },
     "execution_count": 496,
     "metadata": {},
     "output_type": "execute_result"
    }
   ],
   "source": [
    "openEyeCheck('EyesDataset/000000.jpg')"
   ]
  }
 ],
 "metadata": {
  "kernelspec": {
   "display_name": "Python 3",
   "language": "python",
   "name": "python3"
  },
  "language_info": {
   "codemirror_mode": {
    "name": "ipython",
    "version": 3
   },
   "file_extension": ".py",
   "mimetype": "text/x-python",
   "name": "python",
   "nbconvert_exporter": "python",
   "pygments_lexer": "ipython3",
   "version": "3.8.5"
  }
 },
 "nbformat": 4,
 "nbformat_minor": 4
}
