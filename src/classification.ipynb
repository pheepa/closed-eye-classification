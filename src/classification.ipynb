{
 "cells": [
  {
   "cell_type": "markdown",
   "metadata": {},
   "source": [
    "В данном ноутбуке я отошел от идеи кластеризации, в силу того, что данных немного и можно их автоматизированно(с поомщью pigeon) разметить за час."
   ]
  },
  {
   "cell_type": "code",
   "execution_count": 1,
   "metadata": {},
   "outputs": [],
   "source": [
    "from matplotlib import pyplot as plt\n",
    "import numpy as np\n",
    "from sklearn.model_selection import train_test_split\n",
    "from sklearn.metrics import f1_score, accuracy_score, roc_curve\n",
    "\n",
    "from pigeon import annotate\n",
    "from tqdm import tqdm, tqdm_notebook\n",
    "from pathlib import Path\n",
    "import pickle\n",
    "\n",
    "import torch\n",
    "import torchvision\n",
    "from torchvision import transforms, models\n",
    "from torch.utils.data import Dataset, DataLoader\n",
    "import torch.nn as nn"
   ]
  },
  {
   "cell_type": "code",
   "execution_count": 2,
   "metadata": {},
   "outputs": [
    {
     "name": "stdout",
     "output_type": "stream",
     "text": [
      "CUDA is available!  Training on GPU ...\n"
     ]
    }
   ],
   "source": [
    "train_on_gpu = torch.cuda.is_available()\n",
    "\n",
    "if not train_on_gpu:\n",
    "    print('CUDA is not available.  Training on CPU ...')\n",
    "else:\n",
    "    print('CUDA is available!  Training on GPU ...')"
   ]
  },
  {
   "cell_type": "code",
   "execution_count": 3,
   "metadata": {},
   "outputs": [],
   "source": [
    "def eer_score(truth, pred):\n",
    "    fpr, tpr, _ = roc_curve(truth, pred, pos_label=1)\n",
    "    fnr = 1 - tpr\n",
    "    EER = fpr[np.nanargmin(np.absolute(fnr - fpr))]\n",
    "    return EER"
   ]
  },
  {
   "cell_type": "markdown",
   "metadata": {},
   "source": [
    "# Labeling"
   ]
  },
  {
   "cell_type": "code",
   "execution_count": 4,
   "metadata": {},
   "outputs": [],
   "source": [
    "DATA_MODES = ['train', 'test']\n",
    "DEVICE = torch.device(\"cuda\")"
   ]
  },
  {
   "cell_type": "code",
   "execution_count": 5,
   "metadata": {},
   "outputs": [],
   "source": [
    "DATA_DIR = Path('../input/EyesDataset/')\n",
    "files = sorted(list(DATA_DIR.rglob('*.jpg')))"
   ]
  },
  {
   "cell_type": "code",
   "execution_count": 41,
   "metadata": {},
   "outputs": [],
   "source": [
    "from IPython.display import display, Image"
   ]
  },
  {
   "cell_type": "code",
   "execution_count": 3,
   "metadata": {
    "scrolled": true
   },
   "outputs": [
    {
     "data": {
      "application/vnd.jupyter.widget-view+json": {
       "model_id": "e287f13bf79e421083e6319b264c79ef",
       "version_major": 2,
       "version_minor": 0
      },
      "text/plain": [
       "HTML(value='0 examples annotated, 4001 examples left')"
      ]
     },
     "metadata": {},
     "output_type": "display_data"
    },
    {
     "data": {
      "application/vnd.jupyter.widget-view+json": {
       "model_id": "6f132589b87341348443f8a52c2ca2a6",
       "version_major": 2,
       "version_minor": 0
      },
      "text/plain": [
       "HBox(children=(Button(description='opened', style=ButtonStyle()), Button(description='closed', style=ButtonSty…"
      ]
     },
     "metadata": {},
     "output_type": "display_data"
    },
    {
     "data": {
      "application/vnd.jupyter.widget-view+json": {
       "model_id": "0838f86f3c1642cc97bc9490eafe5fe7",
       "version_major": 2,
       "version_minor": 0
      },
      "text/plain": [
       "Output()"
      ]
     },
     "metadata": {},
     "output_type": "display_data"
    },
    {
     "name": "stdout",
     "output_type": "stream",
     "text": [
      "Annotation done.\n"
     ]
    }
   ],
   "source": [
    "annotations = annotate(\n",
    "  files,\n",
    "  options=['opened', 'closed'],\n",
    "  display_fn=lambda filename: display(Image(filename))\n",
    ")"
   ]
  },
  {
   "cell_type": "code",
   "execution_count": 73,
   "metadata": {},
   "outputs": [],
   "source": [
    "with open('annotations.pkl', 'wb') as f:\n",
    "    pickle.dump(annotations_, f)"
   ]
  },
  {
   "cell_type": "code",
   "execution_count": 9,
   "metadata": {},
   "outputs": [],
   "source": [
    "with open('annotations.pkl', 'rb') as f:\n",
    "    annotations = pickle.load(f)"
   ]
  },
  {
   "cell_type": "code",
   "execution_count": 10,
   "metadata": {},
   "outputs": [
    {
     "data": {
      "text/plain": [
       "3955"
      ]
     },
     "execution_count": 10,
     "metadata": {},
     "output_type": "execute_result"
    }
   ],
   "source": [
    "len(annotations)"
   ]
  },
  {
   "cell_type": "markdown",
   "metadata": {},
   "source": [
    "Размечено 3955 изображений из 4000, тк некоторые невозможно определить ни в одну ни в другую(например черные изображения)."
   ]
  },
  {
   "cell_type": "code",
   "execution_count": 11,
   "metadata": {},
   "outputs": [],
   "source": [
    "labels = np.array([x for _, x in annotations])"
   ]
  },
  {
   "cell_type": "markdown",
   "metadata": {},
   "source": [
    "Выборка уроновешенна."
   ]
  },
  {
   "cell_type": "code",
   "execution_count": 12,
   "metadata": {},
   "outputs": [
    {
     "data": {
      "image/png": "[encoded data removed]",
      "text/plain": [
       "<Figure size 432x288 with 1 Axes>"
      ]
     },
     "metadata": {
      "needs_background": "light"
     },
     "output_type": "display_data"
    }
   ],
   "source": [
    "fig = plt.figure()\n",
    "_ = plt.hist(labels)\n",
    "fig.savefig('../plots/hist_annotations.png')"
   ]
  },
  {
   "cell_type": "code",
   "execution_count": 13,
   "metadata": {},
   "outputs": [],
   "source": [
    "train_ann, test_ann = train_test_split(annotations, test_size=0.1, shuffle=True)"
   ]
  },
  {
   "cell_type": "markdown",
   "metadata": {},
   "source": [
    "# Dataset class"
   ]
  },
  {
   "cell_type": "code",
   "execution_count": 14,
   "metadata": {},
   "outputs": [],
   "source": [
    "from PIL import Image "
   ]
  },
  {
   "cell_type": "code",
   "execution_count": 15,
   "metadata": {},
   "outputs": [],
   "source": [
    "class EyesDataset(Dataset):\n",
    "    def __init__(self, annotations, mode):\n",
    "        super().__init__()\n",
    "        self.annotations = annotations\n",
    "        self.mode = mode\n",
    "\n",
    "        if self.mode not in DATA_MODES:\n",
    "            print(f\"{self.mode} is not correct; correct modes: {DATA_MODES}\")\n",
    "            raise NameError\n",
    "\n",
    "        self.len_ = len(self.annotations)\n",
    "     \n",
    "                      \n",
    "    def __len__(self):\n",
    "        return self.len_\n",
    "      \n",
    "    def load_sample(self, file):\n",
    "        image = Image.open(file)\n",
    "        image.load()\n",
    "        return image\n",
    "  \n",
    "    def __getitem__(self, index):\n",
    "        \n",
    "        transform = transforms.Compose([\n",
    "            transforms.ToTensor(),\n",
    "        ])\n",
    "        \n",
    "        augmentation = transforms.Compose([\n",
    "            transforms.RandomHorizontalFlip(),\n",
    "            transforms.RandomResizedCrop(24, scale=(0.8, 1), ratio=(0.75, 1.3333333333333333), interpolation=2),\n",
    "#             transforms.RandomPerspective(distortion_scale=0.3, p=0.9, interpolation=3, fill=0),\n",
    "            transforms.RandomAffine(degrees=20, shear=20, resample=False),\n",
    "            transforms.Resize((24, 24))\n",
    "        ])\n",
    "        \n",
    "        x = self.load_sample(self.annotations[index][0])\n",
    "        label = (lambda x : 0 if (x == 'closed') else 1)(self.annotations[index][1])\n",
    "        label = np.array(label, dtype='float32')\n",
    "                                                         \n",
    "        if self.mode == 'train':\n",
    "            x = augmentation(x)\n",
    "        x = self._prepare_sample(x)\n",
    "        x = np.array(x / 255, dtype='float32')\n",
    "        x = transform(x)\n",
    "        return x, label\n",
    "        \n",
    "    def _prepare_sample(self, image):\n",
    "        image = image.resize((24, 24))\n",
    "        return np.array(image)"
   ]
  },
  {
   "cell_type": "code",
   "execution_count": 16,
   "metadata": {},
   "outputs": [],
   "source": [
    "train_dataset = EyesDataset(train_ann, 'train')\n",
    "test_dataset = EyesDataset(test_ann, 'test')"
   ]
  },
  {
   "cell_type": "code",
   "execution_count": 17,
   "metadata": {},
   "outputs": [],
   "source": [
    "train_loader = DataLoader(train_dataset, shuffle=True, batch_size=32)\n",
    "test_loader = DataLoader(test_dataset, shuffle=False, batch_size=32)"
   ]
  },
  {
   "cell_type": "markdown",
   "metadata": {},
   "source": [
    "# Train functions"
   ]
  },
  {
   "cell_type": "code",
   "execution_count": 18,
   "metadata": {
    "colab": {},
    "colab_type": "code",
    "id": "EsMwa0HRSOEJ"
   },
   "outputs": [],
   "source": [
    "def train_epoch(net, train_loader, loss_fn, optimizer):\n",
    "    net.train()\n",
    "    train_ep_loss = 0.\n",
    "    counter = 0\n",
    "    for train_x, train_y in train_loader:\n",
    "        train_x = train_x.to(DEVICE)\n",
    "        train_y = train_y.to(DEVICE).view(-1, 1)\n",
    "        # zero  gradients\n",
    "        optimizer.zero_grad()\n",
    "\n",
    "        # get the output from the model\n",
    "        output = net(train_x)\n",
    "        output = torch.sigmoid(output)\n",
    "        # calculate loss\n",
    "        loss = loss_fn(output, train_y)\n",
    "        loss.backward()\n",
    "        optimizer.step()\n",
    "\n",
    "        train_ep_loss += loss.item() \n",
    "        counter += 1\n",
    "    train_ep_loss /= counter\n",
    "   \n",
    "    return train_ep_loss"
   ]
  },
  {
   "cell_type": "code",
   "execution_count": 19,
   "metadata": {
    "colab": {},
    "colab_type": "code",
    "id": "TR49JExXSOEM"
   },
   "outputs": [],
   "source": [
    "def test_epoch(net, test_loader, loss_fn):\n",
    "    net.eval()\n",
    "    test_ep_loss = 0.\n",
    "    test_ep_acc = 0.\n",
    "    test_ep_f1 = 0.\n",
    "    test_ep_eer = 0.\n",
    "    \n",
    "    counter = 0.\n",
    "    for test_x, test_y in test_loader:\n",
    "        test_x = test_x.to(DEVICE)\n",
    "        test_y = test_y.to(DEVICE).view(-1, 1)\n",
    "        \n",
    "        output = net(test_x)\n",
    "        output = torch.sigmoid(output)\n",
    "        \n",
    "        # calculate loss and metrics\n",
    "        loss = loss_fn(output, test_y)\n",
    "        acc = accuracy_score(test_y.cpu().detach(), (output.cpu().detach() > 0.5))\n",
    "        f1 = f1_score(test_y.cpu().detach(), (output.cpu().detach() > 0.5).type(torch.float32))\n",
    "        eer = eer_score(test_y.cpu().detach(), (output.cpu().detach() > 0.5).type(torch.float32))\n",
    "        \n",
    "        test_ep_loss += loss.item() \n",
    "        test_ep_acc += acc\n",
    "        test_ep_f1 += f1\n",
    "        test_ep_eer += eer\n",
    "        \n",
    "        counter += 1\n",
    "\n",
    "    test_ep_loss /= counter\n",
    "    test_ep_acc /= counter\n",
    "    test_ep_f1 /= counter\n",
    "    test_ep_eer /= counter\n",
    "    \n",
    "    return test_ep_loss, test_ep_acc, test_ep_f1, test_ep_eer"
   ]
  },
  {
   "cell_type": "code",
   "execution_count": 20,
   "metadata": {
    "colab": {},
    "colab_type": "code",
    "id": "3wDiVXSuSOER"
   },
   "outputs": [],
   "source": [
    "def train(net, train_loader, test_loader, loss_fn, optimizer, epochs, scheduler=None):\n",
    "    \n",
    "    train_losses = []\n",
    "    test_losses = []\n",
    "    \n",
    "    for e in tqdm(range(epochs)):\n",
    "\n",
    "        train_loss = train_epoch(net, train_loader, loss_fn, optimizer)\n",
    "        if scheduler:\n",
    "            scheduler.step()\n",
    "        with torch.no_grad():\n",
    "            test_loss, test_acc, test_f1, test_eer = test_epoch(net, test_loader, loss_fn)\n",
    "\n",
    "        train_losses.append(train_loss)\n",
    "        test_losses.append(test_loss)\n",
    "        \n",
    "        if e%5 == 0:\n",
    "            print(\"Epoch: {}/{}...\".format(e+1, epochs),\n",
    "                          \"Loss: {:.6f}...\".format(train_loss),\n",
    "                          \"Test Loss: {:.6f}...\".format(test_loss), \n",
    "                          \"Test acc: {:.6f}\".format(test_acc),\n",
    "                          \"Test f1: {:.6f}\".format(test_f1), \n",
    "                          \"Test eer: {:.6f}\".format(test_eer))\n",
    "    return train_losses, test_losses"
   ]
  },
  {
   "cell_type": "markdown",
   "metadata": {},
   "source": [
    "# Model"
   ]
  },
  {
   "cell_type": "code",
   "execution_count": 37,
   "metadata": {},
   "outputs": [],
   "source": [
    "mobilenet = models.mobilenet_v2()"
   ]
  },
  {
   "cell_type": "code",
   "execution_count": 38,
   "metadata": {},
   "outputs": [],
   "source": [
    "mobilenet.features[0][0] = nn.Conv2d(1, 32, kernel_size=(3, 3), stride=(2, 2), padding=(1, 1), bias=False)"
   ]
  },
  {
   "cell_type": "code",
   "execution_count": 39,
   "metadata": {},
   "outputs": [],
   "source": [
    "mobilenet.classifier = nn.Sequential(\n",
    "    nn.Dropout(p=0.2, inplace=False), \n",
    "    nn.Linear(in_features=1280, out_features=100, bias=True), \n",
    "    nn.ReLU(), \n",
    "    nn.Linear(in_features=100, out_features=1, bias=True)\n",
    ")"
   ]
  },
  {
   "cell_type": "markdown",
   "metadata": {},
   "source": [
    "# Train"
   ]
  },
  {
   "cell_type": "code",
   "execution_count": 40,
   "metadata": {},
   "outputs": [],
   "source": [
    "mobilenet = mobilenet.to(DEVICE)\n",
    "\n",
    "optimizer = torch.optim.Adam(mobilenet.parameters(), lr = 1e-3)\n",
    "scheduler = torch.optim.lr_scheduler.StepLR(optimizer, step_size=5, gamma=0.2)\n",
    "criterion = nn.BCELoss()"
   ]
  },
  {
   "cell_type": "code",
   "execution_count": 42,
   "metadata": {},
   "outputs": [
    {
     "name": "stderr",
     "output_type": "stream",
     "text": [
      "  2%|▏         | 1/50 [00:07<06:00,  7.35s/it]"
     ]
    },
    {
     "name": "stdout",
     "output_type": "stream",
     "text": [
      "Epoch: 1/50... Loss: 0.628983... Test Loss: 0.519862... Test acc: 0.755609 Test f1: 0.774676 Test eer: 0.325634\n"
     ]
    },
    {
     "name": "stderr",
     "output_type": "stream",
     "text": [
      " 12%|█▏        | 6/50 [00:43<05:15,  7.18s/it]"
     ]
    },
    {
     "name": "stdout",
     "output_type": "stream",
     "text": [
      "Epoch: 6/50... Loss: 0.374071... Test Loss: 0.304638... Test acc: 0.893429 Test f1: 0.896408 Test eer: 0.117134\n"
     ]
    },
    {
     "name": "stderr",
     "output_type": "stream",
     "text": [
      " 22%|██▏       | 11/50 [01:21<04:52,  7.51s/it]"
     ]
    },
    {
     "name": "stdout",
     "output_type": "stream",
     "text": [
      "Epoch: 11/50... Loss: 0.293649... Test Loss: 0.250298... Test acc: 0.913462 Test f1: 0.914232 Test eer: 0.095537\n"
     ]
    },
    {
     "name": "stderr",
     "output_type": "stream",
     "text": [
      " 32%|███▏      | 16/50 [01:58<04:16,  7.56s/it]"
     ]
    },
    {
     "name": "stdout",
     "output_type": "stream",
     "text": [
      "Epoch: 16/50... Loss: 0.250412... Test Loss: 0.217398... Test acc: 0.920673 Test f1: 0.925225 Test eer: 0.105903\n"
     ]
    },
    {
     "name": "stderr",
     "output_type": "stream",
     "text": [
      " 42%|████▏     | 21/50 [02:36<03:37,  7.50s/it]"
     ]
    },
    {
     "name": "stdout",
     "output_type": "stream",
     "text": [
      "Epoch: 21/50... Loss: 0.237992... Test Loss: 0.229650... Test acc: 0.930288 Test f1: 0.928881 Test eer: 0.050800\n"
     ]
    },
    {
     "name": "stderr",
     "output_type": "stream",
     "text": [
      " 52%|█████▏    | 26/50 [03:14<03:00,  7.53s/it]"
     ]
    },
    {
     "name": "stdout",
     "output_type": "stream",
     "text": [
      "Epoch: 26/50... Loss: 0.231831... Test Loss: 0.227988... Test acc: 0.899038 Test f1: 0.907056 Test eer: 0.172308\n"
     ]
    },
    {
     "name": "stderr",
     "output_type": "stream",
     "text": [
      " 62%|██████▏   | 31/50 [03:52<02:22,  7.52s/it]"
     ]
    },
    {
     "name": "stdout",
     "output_type": "stream",
     "text": [
      "Epoch: 31/50... Loss: 0.191014... Test Loss: 0.216942... Test acc: 0.930288 Test f1: 0.934578 Test eer: 0.108724\n"
     ]
    },
    {
     "name": "stderr",
     "output_type": "stream",
     "text": [
      " 72%|███████▏  | 36/50 [04:30<01:46,  7.60s/it]"
     ]
    },
    {
     "name": "stdout",
     "output_type": "stream",
     "text": [
      "Epoch: 36/50... Loss: 0.186500... Test Loss: 0.194322... Test acc: 0.923077 Test f1: 0.928447 Test eer: 0.114172\n"
     ]
    },
    {
     "name": "stderr",
     "output_type": "stream",
     "text": [
      " 82%|████████▏ | 41/50 [05:08<01:08,  7.58s/it]"
     ]
    },
    {
     "name": "stdout",
     "output_type": "stream",
     "text": [
      "Epoch: 41/50... Loss: 0.198938... Test Loss: 0.173778... Test acc: 0.943910 Test f1: 0.945263 Test eer: 0.074556\n"
     ]
    },
    {
     "name": "stderr",
     "output_type": "stream",
     "text": [
      " 92%|█████████▏| 46/50 [05:46<00:30,  7.57s/it]"
     ]
    },
    {
     "name": "stdout",
     "output_type": "stream",
     "text": [
      "Epoch: 46/50... Loss: 0.174388... Test Loss: 0.168599... Test acc: 0.946314 Test f1: 0.946926 Test eer: 0.061845\n"
     ]
    },
    {
     "name": "stderr",
     "output_type": "stream",
     "text": [
      "100%|██████████| 50/50 [06:17<00:00,  7.55s/it]\n"
     ]
    }
   ],
   "source": [
    "mn_train_losses, mn_test_losses = train(mobilenet, train_loader, test_loader, criterion, optimizer, 50)"
   ]
  },
  {
   "cell_type": "code",
   "execution_count": 43,
   "metadata": {},
   "outputs": [],
   "source": [
    "torch.save(mobilenet.state_dict(), '../weights/weights_mn_50.pth')"
   ]
  },
  {
   "cell_type": "code",
   "execution_count": 44,
   "metadata": {},
   "outputs": [
    {
     "data": {
      "text/plain": [
       "<All keys matched successfully>"
      ]
     },
     "execution_count": 44,
     "metadata": {},
     "output_type": "execute_result"
    }
   ],
   "source": [
    "mobilenet.load_state_dict(torch.load('../weights/weights_mn_50.pth'))"
   ]
  },
  {
   "cell_type": "code",
   "execution_count": 45,
   "metadata": {},
   "outputs": [
    {
     "name": "stdout",
     "output_type": "stream",
     "text": [
      "acc: 0.930288\n",
      "f1 : 0.931135\n",
      "eer : 0.080473\n"
     ]
    }
   ],
   "source": [
    "_, acc, f1, eer = test_epoch(mobilenet, test_loader, criterion)\n",
    "print('acc: {:.6f}\\nf1 : {:.6f}\\neer : {:.6f}'.format(acc, f1, eer))"
   ]
  },
  {
   "cell_type": "code",
   "execution_count": 52,
   "metadata": {},
   "outputs": [
    {
     "data": {
      "image/png": "[encoded data removed]",
      "text/plain": [
       "<Figure size 432x288 with 1 Axes>"
      ]
     },
     "metadata": {
      "needs_background": "light"
     },
     "output_type": "display_data"
    }
   ],
   "source": [
    "fig1 = plt.figure()\n",
    "plt.plot(mn_train_losses)\n",
    "fig1.suptitle('train losses')\n",
    "fig1.savefig('../plots/train_losses.png')"
   ]
  },
  {
   "cell_type": "code",
   "execution_count": 53,
   "metadata": {},
   "outputs": [
    {
     "data": {
      "image/png": "[encoded data removed]",
      "text/plain": [
       "<Figure size 432x288 with 1 Axes>"
      ]
     },
     "metadata": {
      "needs_background": "light"
     },
     "output_type": "display_data"
    }
   ],
   "source": [
    "fig2 = plt.figure()\n",
    "plt.plot(mn_test_losses)\n",
    "fig2.suptitle('test losses')\n",
    "fig1.savefig('../plots/test_losses.png')"
   ]
  },
  {
   "cell_type": "code",
   "execution_count": 133,
   "metadata": {},
   "outputs": [],
   "source": [
    "def openEyeCheck(inpIm, model=None):\n",
    "    def load_sample(file):\n",
    "        image = Image.open(file)\n",
    "        image.load()\n",
    "        return image\n",
    "    if model is None:\n",
    "        model = models.mobilenet_v2()\n",
    "        model.features[0][0] = nn.Conv2d(1, 32, kernel_size=(3, 3), stride=(2, 2), padding=(1, 1), bias=False)\n",
    "        model.classifier = nn.Sequential(\n",
    "            nn.Dropout(p=0.2, inplace=False), \n",
    "            nn.Linear(in_features=1280, out_features=100, bias=True), \n",
    "            nn.ReLU(), \n",
    "            nn.Linear(in_features=100, out_features=1, bias=True)\n",
    "        )\n",
    "        model = model.to(DEVICE)\n",
    "        model.load_state_dict(torch.load('../weights/weights_mn_50.pth'))\n",
    "        model.eval()\n",
    "    \n",
    "    image = torch.FloatTensor(np.array(load_sample(inpIm))).to(DEVICE).view(1,1,24,24) / 255\n",
    "    out = torch.sigmoid(model(image)) > 0.5\n",
    "    \n",
    "    return int(out.item())"
   ]
  },
  {
   "cell_type": "code",
   "execution_count": 134,
   "metadata": {},
   "outputs": [
    {
     "data": {
      "text/plain": [
       "1"
      ]
     },
     "execution_count": 134,
     "metadata": {},
     "output_type": "execute_result"
    }
   ],
   "source": [
    "openEyeCheck('../input/EyesDataset/000000.jpg')"
   ]
  }
 ],
 "metadata": {
  "kernelspec": {
   "display_name": "Python 3",
   "language": "python",
   "name": "python3"
  },
  "language_info": {
   "codemirror_mode": {
    "name": "ipython",
    "version": 3
   },
   "file_extension": ".py",
   "mimetype": "text/x-python",
   "name": "python",
   "nbconvert_exporter": "python",
   "pygments_lexer": "ipython3",
   "version": "3.8.5"
  }
 },
 "nbformat": 4,
 "nbformat_minor": 4
}
